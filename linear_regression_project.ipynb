{
 "cells": [
  {
   "cell_type": "markdown",
   "metadata": {},
   "source": [
    "欢迎来到线性回归项目。\n",
    "\n",
    "若项目中的题目有困难没完成也没关系，我们鼓励您带着问题提交项目，评审会给予您诸多帮助。\n",
    "\n",
    "其中证明题可以提交 pdf 格式，手写后扫描或使用公式编辑器（latex，mathtype）均可行。"
   ]
  },
  {
   "cell_type": "markdown",
   "metadata": {},
   "source": [
    "# 1 矩阵运算\n",
    "\n",
    "## 1.1 创建一个 4*4 的单位矩阵"
   ]
  },
  {
   "cell_type": "code",
   "execution_count": 1,
   "metadata": {
    "collapsed": true
   },
   "outputs": [],
   "source": [
    "# 这个项目设计来帮你熟悉 python list 和线性代数\n",
    "# 你不能调用任何python库，包括NumPy，来完成作业\n",
    "\n",
    "A = [[1,2,3], \n",
    "     [2,3,3], \n",
    "     [1,2,5]]\n",
    "\n",
    "B = [[1,2,3,5], \n",
    "     [2,3,3,5], \n",
    "     [1,2,5,1]]\n",
    "\n",
    "#TODO 创建一个 4*4 单位矩阵\n",
    "I = [[1,0,0,0],\n",
    "     [0,1,0,0],\n",
    "     [0,0,1,0],\n",
    "     [0,0,0,1]]"
   ]
  },
  {
   "cell_type": "markdown",
   "metadata": {},
   "source": [
    "## 1.2 返回矩阵的行数和列数"
   ]
  },
  {
   "cell_type": "code",
   "execution_count": 2,
   "metadata": {
    "collapsed": true
   },
   "outputs": [],
   "source": [
    "# TODO 返回矩阵的行数和列数\n",
    "def shape(M):\n",
    "    \"\"\"\n",
    "    Calcuate the count of row and column in the matrix\n",
    "    @param M: the matrix\n",
    "    @return 'n' represents the count of row; \n",
    "            'm' represents the count of column\n",
    "    \"\"\"\n",
    "    column_count = 0\n",
    "    row_count = len(M)\n",
    "    for element in M:\n",
    "        k = len(element)\n",
    "        if column_count < k:\n",
    "            column_count = k\n",
    "\n",
    "    return row_count, column_count"
   ]
  },
  {
   "cell_type": "code",
   "execution_count": 3,
   "metadata": {},
   "outputs": [
    {
     "name": "stderr",
     "output_type": "stream",
     "text": [
      ".\n",
      "----------------------------------------------------------------------\n",
      "Ran 1 test in 0.007s\n",
      "\n",
      "OK\n"
     ]
    }
   ],
   "source": [
    "# 运行以下代码测试你的 shape 函数\n",
    "%run -i -e test.py LinearRegressionTestCase.test_shape"
   ]
  },
  {
   "cell_type": "markdown",
   "metadata": {},
   "source": [
    "## 1.3 每个元素四舍五入到特定小数数位"
   ]
  },
  {
   "cell_type": "code",
   "execution_count": 4,
   "metadata": {
    "collapsed": true
   },
   "outputs": [],
   "source": [
    "# TODO 每个元素四舍五入到特定小数数位\n",
    "# 直接修改参数矩阵，无返回值\n",
    "def matxRound(M, decPts=4):\n",
    "    \"\"\"\n",
    "    Set the precision of each value in the matrix\n",
    "    @Param M: the matrix\n",
    "    @Param decPts: The precision of the value\n",
    "    \"\"\"\n",
    "    #Foreach the row of matrix\n",
    "    if decPts < 0:\n",
    "        return\n",
    "    for i in range(len(M)):\n",
    "        #Foreach the column of every matrix column\n",
    "        for j in range(len(M[i])):\n",
    "            M[i][j] = round(M[i][j], decPts)"
   ]
  },
  {
   "cell_type": "code",
   "execution_count": 5,
   "metadata": {},
   "outputs": [
    {
     "name": "stderr",
     "output_type": "stream",
     "text": [
      ".\n",
      "----------------------------------------------------------------------\n",
      "Ran 1 test in 0.065s\n",
      "\n",
      "OK\n"
     ]
    }
   ],
   "source": [
    "# 运行以下代码测试你的 matxRound 函数\n",
    "%run -i -e test.py LinearRegressionTestCase.test_matxRound"
   ]
  },
  {
   "cell_type": "markdown",
   "metadata": {},
   "source": [
    "## 1.4 计算矩阵的转置"
   ]
  },
  {
   "cell_type": "code",
   "execution_count": 6,
   "metadata": {
    "collapsed": true
   },
   "outputs": [],
   "source": [
    "# TODO 计算矩阵的转置\n",
    "def transpose(M):\n",
    "    \"\"\"\n",
    "    Calculate the transpose of the matrix.\n",
    "    We need to set the precision before calculate the transpose.\n",
    "    @Param M: the matrix\n",
    "    @return: the transponse of the matrix.\n",
    "    \"\"\"\n",
    "    \n",
    "    # 获取矩阵的行数、列数\n",
    "    count = shape(M)\n",
    "    row_count = count[1]\n",
    "    column_count = count[0]\n",
    "    \n",
    "    transpose = []\n",
    "    for row_index in range(row_count):\n",
    "        column = []\n",
    "        for column_index in range(column_count):\n",
    "            column.append(M[column_index][row_index])\n",
    "        transpose.append(column)\n",
    "    \n",
    "    return transpose"
   ]
  },
  {
   "cell_type": "code",
   "execution_count": 7,
   "metadata": {},
   "outputs": [
    {
     "name": "stderr",
     "output_type": "stream",
     "text": [
      ".\n",
      "----------------------------------------------------------------------\n",
      "Ran 1 test in 0.006s\n",
      "\n",
      "OK\n"
     ]
    }
   ],
   "source": [
    "# 运行以下代码测试你的 transpose 函数\n",
    "%run -i -e test.py LinearRegressionTestCase.test_transpose"
   ]
  },
  {
   "cell_type": "markdown",
   "metadata": {},
   "source": [
    "## 1.5 计算矩阵乘法 AB"
   ]
  },
  {
   "cell_type": "code",
   "execution_count": 8,
   "metadata": {
    "collapsed": true
   },
   "outputs": [],
   "source": [
    "# TODO 计算矩阵乘法 AB，如果无法相乘则返回None\n",
    "def matxMultiply(A, B):\n",
    "    \"\"\"\n",
    "    Calculate the product of A and B.\n",
    "    When the column count of A is not equal the row count of B, the\n",
    "    product is None.\n",
    "    When the A or B is equal None, the product is None.\n",
    "    \n",
    "    @param A: the first matrix\n",
    "    @param B: the second matrix\n",
    "    @return: the product.\n",
    "    \"\"\"\n",
    "    result = None\n",
    "    \n",
    "    # Verify the A and B.\n",
    "    shape_A = shape(A)\n",
    "    shape_B = shape(B)\n",
    "    \n",
    "    # Verify the column count of A and the row count of B\n",
    "    if shape_A[1] != shape_B[0]:\n",
    "        return 'The dimension don\\'t match'\n",
    "    \n",
    "    row_count = shape_A[0]\n",
    "    column_count = shape_B[1]\n",
    "    equal_count = shape_A[1]\n",
    "    \n",
    "    result = []\n",
    "    for row_index in range(row_count):\n",
    "        row = []\n",
    "        row_A = A[row_index]\n",
    "        for column_index in range(column_count):\n",
    "            value = 0\n",
    "            for i in range(equal_count):\n",
    "                value += A[row_index][i] * B[i][column_index]\n",
    "            row.append(value)\n",
    "        result.append(row)\n",
    "        \n",
    "    matxRound(result)\n",
    "    return result"
   ]
  },
  {
   "cell_type": "code",
   "execution_count": 9,
   "metadata": {},
   "outputs": [
    {
     "name": "stderr",
     "output_type": "stream",
     "text": [
      ".\n",
      "----------------------------------------------------------------------\n",
      "Ran 1 test in 0.175s\n",
      "\n",
      "OK\n"
     ]
    }
   ],
   "source": [
    "# 运行以下代码测试你的 matxMultiply 函数\n",
    "%run -i -e test.py LinearRegressionTestCase.test_matxMultiply"
   ]
  },
  {
   "cell_type": "markdown",
   "metadata": {},
   "source": [
    "---\n",
    "\n",
    "# 2 Gaussign Jordan 消元法\n",
    "\n",
    "## 2.1 构造增广矩阵\n",
    "\n",
    "$ A = \\begin{bmatrix}\n",
    "    a_{11}    & a_{12} & ... & a_{1n}\\\\\n",
    "    a_{21}    & a_{22} & ... & a_{2n}\\\\\n",
    "    a_{31}    & a_{22} & ... & a_{3n}\\\\\n",
    "    ...    & ... & ... & ...\\\\\n",
    "    a_{n1}    & a_{n2} & ... & a_{nn}\\\\\n",
    "\\end{bmatrix} , b = \\begin{bmatrix}\n",
    "    b_{1}  \\\\\n",
    "    b_{2}  \\\\\n",
    "    b_{3}  \\\\\n",
    "    ...    \\\\\n",
    "    b_{n}  \\\\\n",
    "\\end{bmatrix}$\n",
    "\n",
    "返回 $ Ab = \\begin{bmatrix}\n",
    "    a_{11}    & a_{12} & ... & a_{1n} & b_{1}\\\\\n",
    "    a_{21}    & a_{22} & ... & a_{2n} & b_{2}\\\\\n",
    "    a_{31}    & a_{22} & ... & a_{3n} & b_{3}\\\\\n",
    "    ...    & ... & ... & ...& ...\\\\\n",
    "    a_{n1}    & a_{n2} & ... & a_{nn} & b_{n} \\end{bmatrix}$"
   ]
  },
  {
   "cell_type": "code",
   "execution_count": 10,
   "metadata": {
    "collapsed": true
   },
   "outputs": [],
   "source": [
    "# TODO 构造增广矩阵，假设A，b行数相同\n",
    "def augmentMatrix(A, b):\n",
    "    result = []\n",
    "    \n",
    "    # Foreach the row\n",
    "    for i in range(len(A)):\n",
    "        children_result = []\n",
    "        children_A = A[i]\n",
    "        # Foreach the column\n",
    "        for j in range(len(children_A)):\n",
    "            children_result.append(A[i][j])\n",
    "        children_result.append(b[i][0])\n",
    "        result.append(children_result)\n",
    "        \n",
    "    return result"
   ]
  },
  {
   "cell_type": "code",
   "execution_count": 11,
   "metadata": {},
   "outputs": [
    {
     "name": "stderr",
     "output_type": "stream",
     "text": [
      ".\n",
      "----------------------------------------------------------------------\n",
      "Ran 1 test in 0.006s\n",
      "\n",
      "OK\n"
     ]
    }
   ],
   "source": [
    "# 运行以下代码测试你的 augmentMatrix 函数\n",
    "%run -i -e test.py LinearRegressionTestCase.test_augmentMatrix"
   ]
  },
  {
   "cell_type": "markdown",
   "metadata": {},
   "source": [
    "## 2.2 初等行变换\n",
    "- 交换两行\n",
    "- 把某行乘以一个非零常数\n",
    "- 把某行加上另一行的若干倍："
   ]
  },
  {
   "cell_type": "code",
   "execution_count": 12,
   "metadata": {
    "collapsed": true
   },
   "outputs": [],
   "source": [
    "# TODO r1 <---> r2\n",
    "# 直接修改参数矩阵，无返回值\n",
    "def swapRows(M, r1, r2):\n",
    "    if r1 == r2:\n",
    "        return\n",
    "    if len(M) < r1 or len(M) < r2:\n",
    "        return 'r1 or r2 is too bigger'\n",
    "    k = M[r1]\n",
    "    M[r1] = M[r2]\n",
    "    M[r2] = k"
   ]
  },
  {
   "cell_type": "code",
   "execution_count": 13,
   "metadata": {},
   "outputs": [
    {
     "name": "stderr",
     "output_type": "stream",
     "text": [
      ".\n",
      "----------------------------------------------------------------------\n",
      "Ran 1 test in 0.002s\n",
      "\n",
      "OK\n"
     ]
    }
   ],
   "source": [
    "# 运行以下代码测试你的 swapRows 函数\n",
    "%run -i -e test.py LinearRegressionTestCase.test_swapRows"
   ]
  },
  {
   "cell_type": "code",
   "execution_count": 14,
   "metadata": {
    "collapsed": true
   },
   "outputs": [],
   "source": [
    "# TODO r1 <--- r1 * scale， scale!=0\n",
    "# 直接修改参数矩阵，无返回值\n",
    "def scaleRow(M, r, scale):\n",
    "    if scale == 0:\n",
    "        raise ValueError\n",
    "    for index in range(len(M[r])):\n",
    "        M[r][index] *= scale"
   ]
  },
  {
   "cell_type": "code",
   "execution_count": 15,
   "metadata": {},
   "outputs": [
    {
     "name": "stderr",
     "output_type": "stream",
     "text": [
      ".\n",
      "----------------------------------------------------------------------\n",
      "Ran 1 test in 0.003s\n",
      "\n",
      "OK\n"
     ]
    }
   ],
   "source": [
    "# 运行以下代码测试你的 scaleRow 函数\n",
    "%run -i -e test.py LinearRegressionTestCase.test_scaleRow"
   ]
  },
  {
   "cell_type": "code",
   "execution_count": 16,
   "metadata": {
    "collapsed": true
   },
   "outputs": [],
   "source": [
    "# TODO r1 <--- r1 + r2*scale\n",
    "# 直接修改参数矩阵，无返回值\n",
    "def addScaledRow(M, r1, r2, scale):\n",
    "    if len(M) < r1 or len(M) < r2:\n",
    "        return 'r1 or r2 is too bigger'\n",
    "    # Calculate r2 * scale\n",
    "    a = []\n",
    "    for i in range(len(M[r2])):\n",
    "        a.append(M[r2][i] * scale)\n",
    "    for index in range(len(M[r1])):\n",
    "        M[r1][index] += a[index]"
   ]
  },
  {
   "cell_type": "code",
   "execution_count": 17,
   "metadata": {},
   "outputs": [
    {
     "name": "stderr",
     "output_type": "stream",
     "text": [
      ".\n",
      "----------------------------------------------------------------------\n",
      "Ran 1 test in 0.002s\n",
      "\n",
      "OK\n"
     ]
    }
   ],
   "source": [
    "# 运行以下代码测试你的 addScaledRow 函数\n",
    "%run -i -e test.py LinearRegressionTestCase.test_addScaledRow"
   ]
  },
  {
   "cell_type": "markdown",
   "metadata": {},
   "source": [
    "## 2.3  Gaussian Jordan 消元法求解 Ax = b"
   ]
  },
  {
   "cell_type": "markdown",
   "metadata": {},
   "source": [
    "### 提示：\n",
    "\n",
    "步骤1 检查A，b是否行数相同\n",
    "\n",
    "步骤2 构造增广矩阵Ab\n",
    "\n",
    "步骤3 逐列转换Ab为化简行阶梯形矩阵 [中文维基链接](https://zh.wikipedia.org/wiki/%E9%98%B6%E6%A2%AF%E5%BD%A2%E7%9F%A9%E9%98%B5#.E5.8C.96.E7.AE.80.E5.90.8E.E7.9A.84-.7Bzh-hans:.E8.A1.8C.3B_zh-hant:.E5.88.97.3B.7D-.E9.98.B6.E6.A2.AF.E5.BD.A2.E7.9F.A9.E9.98.B5)\n",
    "    \n",
    "    对于Ab的每一列（最后一列除外）\n",
    "        当前列为列c\n",
    "        寻找列c中 对角线以及对角线以下所有元素（行 c~N）的绝对值的最大值\n",
    "        如果绝对值最大值为0\n",
    "            那么A为奇异矩阵，返回None （请在问题2.4中证明该命题）\n",
    "        否则\n",
    "            使用第一个行变换，将绝对值最大值所在行交换到对角线元素所在行（行c） \n",
    "            使用第二个行变换，将列c的对角线元素缩放为1\n",
    "            多次使用第三个行变换，将列c的其他元素消为0\n",
    "            \n",
    "步骤4 返回Ab的最后一列\n",
    "\n",
    "### 注：\n",
    "我们并没有按照常规方法先把矩阵转化为行阶梯形矩阵，再转换为化简行阶梯形矩阵，而是一步到位。如果你熟悉常规方法的话，可以思考一下两者的等价性。"
   ]
  },
  {
   "cell_type": "code",
   "execution_count": 18,
   "metadata": {
    "collapsed": true
   },
   "outputs": [],
   "source": [
    "# TODO 实现 Gaussain Jordan 方法求解 Ax = b\n",
    "\n",
    "\"\"\" Gaussian Jordan 方法求解 Ax = b.\n",
    "    参数\n",
    "        A: 方阵 \n",
    "        b: 列向量\n",
    "        decPts: 四舍五入位数，默认为4\n",
    "        epsilon: 判读是否为0的阈值，默认 1.0e-16\n",
    "        \n",
    "    返回列向量 x 使得 Ax = b \n",
    "    返回None，如果 A，b 高度不同\n",
    "    返回None，如果 A 为奇异矩阵\n",
    "\"\"\"\n",
    "\n",
    "def gj_Solve(A, b, decPts=4, epsilon = 1.0e-16):\n",
    "    if len(A) != len(b):\n",
    "        return None\n",
    "\n",
    "    # Generate augmented matrix\n",
    "    new = augmentMatrix(A, b)\n",
    "\n",
    "    shapes = shape(new)\n",
    "    row_count = shapes[0]\n",
    "    column_count = shapes[1] - 1\n",
    "\n",
    "    for column_index in range(column_count):\n",
    "        diagonal_index = column_index\n",
    "        if row_count < column_index:\n",
    "            diagonal_index = row_count\n",
    "\n",
    "        max = 0\n",
    "        label = diagonal_index\n",
    "        for row_index in range(diagonal_index, row_count):\n",
    "            value = abs(new[row_index][column_index])\n",
    "            if value > max:\n",
    "                max = value\n",
    "                label = row_index\n",
    "\n",
    "        if max == 0:\n",
    "            return None\n",
    "\n",
    "        swapRows(new, diagonal_index, label)\n",
    "        coefficient = new[diagonal_index][column_index]\n",
    "        scaleRow(new, diagonal_index, 1.0 / coefficient)\n",
    "\n",
    "        for row_index in range(row_count):\n",
    "            if row_index == diagonal_index:\n",
    "                continue;\n",
    "            coefficient_other = new[row_index][column_index]\n",
    "            coefficient_other = 0 - coefficient_other\n",
    "\n",
    "            addScaledRow(new, row_index, diagonal_index, coefficient_other)\n",
    "    matxRound(new)\n",
    "    result = []\n",
    "    for row_index in range(row_count):\n",
    "        result.append([new[row_index][column_count]])\n",
    "    return result"
   ]
  },
  {
   "cell_type": "code",
   "execution_count": 19,
   "metadata": {},
   "outputs": [
    {
     "name": "stderr",
     "output_type": "stream",
     "text": [
      ".\n",
      "----------------------------------------------------------------------\n",
      "Ran 1 test in 0.031s\n",
      "\n",
      "OK\n"
     ]
    }
   ],
   "source": [
    "# 运行以下代码测试你的 gj_Solve 函数\n",
    "%run -i -e test.py LinearRegressionTestCase.test_gj_Solve"
   ]
  },
  {
   "cell_type": "markdown",
   "metadata": {},
   "source": [
    "## 2.4 证明下面的命题：\n",
    "\n",
    "**如果方阵 A 可以被分为4个部分: ** \n",
    "\n",
    "$ A = \\begin{bmatrix}\n",
    "    I    & X \\\\\n",
    "    Z    & Y \\\\\n",
    "\\end{bmatrix} , \\text{其中 I 为单位矩阵，Z 为全0矩阵，Y 的第一列全0}$，\n",
    "\n",
    "**那么A为奇异矩阵。**\n",
    "\n",
    "提示：从多种角度都可以完成证明\n",
    "- 考虑矩阵 Y 和 矩阵 A 的秩\n",
    "- 考虑矩阵 Y 和 矩阵 A 的行列式\n",
    "- 考虑矩阵 A 的某一列是其他列的线性组合"
   ]
  },
  {
   "cell_type": "markdown",
   "metadata": {},
   "source": [
    "TODO 证明：\n",
    "\\begin{vmatrix}\n",
    "I  & X \\\\\n",
    "Z  & Y \\\\\n",
    "\\end{vmatrix}\n",
    "$$ = |I||Y-ZI^{-1}X| $$\n",
    "$$ = |Y-ZI^{-1}X| $$\n",
    "$$ = |Y| $$\n",
    "$$ \\because |Y| \\not = 0 $$\n",
    "$$ \\therefore |A| \\not = 0 $$"
   ]
  },
  {
   "cell_type": "markdown",
   "metadata": {},
   "source": [
    "---\n",
    "\n",
    "# 3 线性回归: \n",
    "\n",
    "## 3.1 计算损失函数相对于参数的导数 (两个3.1 选做其一)\n",
    "\n",
    "我们定义损失函数 $E$ ：\n",
    "$$\n",
    "E = \\sum_{i=1}^{n}{(y_i - mx_i - b)^2}\n",
    "$$\n",
    "定义向量$Y$, 矩阵$X$ 和向量$h$ :\n",
    "$$\n",
    "Y =  \\begin{bmatrix}\n",
    "    y_1 \\\\\n",
    "    y_2 \\\\\n",
    "    ... \\\\\n",
    "    y_n\n",
    "\\end{bmatrix}\n",
    ",\n",
    "X =  \\begin{bmatrix}\n",
    "    x_1 & 1 \\\\\n",
    "    x_2 & 1\\\\\n",
    "    ... & ...\\\\\n",
    "    x_n & 1 \\\\\n",
    "\\end{bmatrix},\n",
    "h =  \\begin{bmatrix}\n",
    "    m \\\\\n",
    "    b \\\\\n",
    "\\end{bmatrix}\n",
    "$$\n",
    "\n",
    "证明：\n",
    "$$\n",
    "\\frac{\\partial E}{\\partial m} = \\sum_{i=1}^{n}{-2x_i(y_i - mx_i - b)}\n",
    "$$\n",
    "\n",
    "$$\n",
    "\\frac{\\partial E}{\\partial b} = \\sum_{i=1}^{n}{-2(y_i - mx_i - b)}\n",
    "$$\n",
    "\n",
    "$$\n",
    "\\begin{bmatrix}\n",
    "    \\frac{\\partial E}{\\partial m} \\\\\n",
    "    \\frac{\\partial E}{\\partial b} \n",
    "\\end{bmatrix} = 2X^TXh - 2X^TY\n",
    "$$"
   ]
  },
  {
   "cell_type": "markdown",
   "metadata": {},
   "source": [
    "TODO 证明：\n",
    "$$\n",
    "\\begin{bmatrix}\n",
    "    \\frac{\\partial E}{\\partial m} \\\\\n",
    "    \\frac{\\partial E}{\\partial b} \n",
    "\\end{bmatrix} = 2X^TXh - 2X^TY\n",
    "$$\n",
    "$$ = 2(X^TXh - 2X^TY)$$\n",
    "$$ = 2X^T(Xh - Y) $$\n",
    "$$ \n",
    "= 2\\begin{bmatrix}\n",
    "       x_1 & x_2 & ... & x_n \\\\\n",
    "       1 & 1 & ... & 1\n",
    "  \\end{bmatrix}(\n",
    "  \\begin{bmatrix}\n",
    "      x_1 & 1 \\\\\n",
    "      ... & ... \\\\\n",
    "      x_n & 1 \n",
    "  \\end{bmatrix}\n",
    "  \\begin{bmatrix}\n",
    "      m \\\\\n",
    "      b\n",
    "  \\end{bmatrix}\n",
    "  -\n",
    "  \\begin{bmatrix}\n",
    "      y_1 \\\\\n",
    "      ... \\\\\n",
    "      y_n \\\\\n",
    "  \\end{bmatrix})\n",
    "$$\n",
    "$$\n",
    "= 2\\begin{bmatrix}\n",
    "       x_1 & x_2 & ... & x_n \\\\\n",
    "       1 & 1 & ... & 1\n",
    "  \\end{bmatrix}\n",
    "  \\begin{bmatrix}\n",
    "       x_1m + b - y_1 \\\\\n",
    "       ... \\\\\n",
    "       x_nm + b - y_n\n",
    "  \\end{bmatrix}\n",
    "$$\n",
    "$$\n",
    "= \\begin{bmatrix}\n",
    "       2x_1(x_1m + b - y_1) & ... & 2x_n(x_nm + b - y_n ) \\\\\n",
    "       2(x_1m + b - y_1) & ... & 2(x_nm + b - y_n)\n",
    "  \\end{bmatrix}\n",
    "$$\n",
    "$$\n",
    "= \\begin{bmatrix}\n",
    "       -2x_1(y_1 - mx_1 - b) & ... & -2x_n(y_n - mx_n - b) \\\\\n",
    "       -2(y_1 - mx_1 - b) & ... & -2(y_n - mx_n - b)\n",
    "  \\end{bmatrix}\n",
    "$$\n",
    "$$\n",
    "= \\begin{bmatrix}\n",
    "    \\frac{\\partial E}{\\partial m} \\\\\n",
    "    \\frac{\\partial E}{\\partial b} \n",
    "  \\end{bmatrix}\n",
    "$$"
   ]
  },
  {
   "cell_type": "markdown",
   "metadata": {},
   "source": [
    "## 3.1 计算损失函数相对于参数的导数（两个3.1 选做其一）\n",
    "\n",
    "我们定义损失函数 $E$ ：\n",
    "$$\n",
    "E = \\sum_{i=1}^{n}{(y_i - mx_i - b)^2}\n",
    "$$\n",
    "定义向量$Y$, 矩阵$X$ 和向量$h$ :\n",
    "$$\n",
    "Y =  \\begin{bmatrix}\n",
    "    y_1 \\\\\n",
    "    y_2 \\\\\n",
    "    ... \\\\\n",
    "    y_n\n",
    "\\end{bmatrix}\n",
    ",\n",
    "X =  \\begin{bmatrix}\n",
    "    x_1 & 1 \\\\\n",
    "    x_2 & 1\\\\\n",
    "    ... & ...\\\\\n",
    "    x_n & 1 \\\\\n",
    "\\end{bmatrix},\n",
    "h =  \\begin{bmatrix}\n",
    "    m \\\\\n",
    "    b \\\\\n",
    "\\end{bmatrix}\n",
    "$$\n",
    "\n",
    "证明：\n",
    "\n",
    "$$\n",
    "E = Y^TY -2(Xh)^TY + (Xh)^TXh\n",
    "$$ \n",
    "\n",
    "$$\n",
    "\\begin{bmatrix}\n",
    "    \\frac{\\partial E}{\\partial m} \\\\\n",
    "    \\frac{\\partial E}{\\partial b} \n",
    "\\end{bmatrix}  = \\frac{\\partial E}{\\partial h} = 2X^TXh - 2X^TY\n",
    "$$"
   ]
  },
  {
   "cell_type": "markdown",
   "metadata": {},
   "source": [
    "TODO 请使用 latex （请参照题目的 latex 写法学习）\n",
    "\n",
    "TODO 证明："
   ]
  },
  {
   "cell_type": "markdown",
   "metadata": {},
   "source": [
    "## 3.2  线性回归\n",
    "\n",
    "### 求解方程 $X^TXh = X^TY $, 计算线性回归的最佳参数 h \n",
    "*如果你想更深入地了解Normal Equation是如何做线性回归的，可以看看MIT的线性代数公开课，相关内容在[投影矩阵与最小二乘](http://open.163.com/movie/2010/11/P/U/M6V0BQC4M_M6V2AOJPU.html)。*"
   ]
  },
  {
   "cell_type": "code",
   "execution_count": 20,
   "metadata": {
    "collapsed": true
   },
   "outputs": [],
   "source": [
    "# TODO 实现线性回归\n",
    "'''\n",
    "参数：(x,y) 二元组列表\n",
    "返回：m，b\n",
    "'''\n",
    "def linearRegression(points):\n",
    "    m_1 = 0\n",
    "    b_1 = 0\n",
    "    k_1 = 0\n",
    "    m_2 = 0\n",
    "    b_2 = 0\n",
    "    k_2 = 0\n",
    "    for i in range(len(points)):\n",
    "        point = points[i]\n",
    "        x = point[0]\n",
    "        y = point[1]\n",
    "        m_1 += x*x\n",
    "        b_2 += x\n",
    "        k_1 += x*y\n",
    "        m_2 += x\n",
    "        k_2 += y\n",
    "    A = [[m_1, b_1],[m_2,b_2]]\n",
    "    b = [[k_1],[k_2]]\n",
    "    return gj_Solve(A,b)"
   ]
  },
  {
   "cell_type": "markdown",
   "metadata": {},
   "source": [
    "## 3.3 测试你的线性回归实现"
   ]
  },
  {
   "cell_type": "code",
   "execution_count": 21,
   "metadata": {},
   "outputs": [
    {
     "name": "stdout",
     "output_type": "stream",
     "text": [
      "斜率比较：\n",
      "原有斜率：5\n",
      "线性回归的斜率：[21.701]\n",
      "-----------\n",
      "截距比较：\n",
      "原有截距：10\n",
      "线性回归的截距：[5.4565]\n"
     ]
    }
   ],
   "source": [
    "# TODO 构造线性函数\n",
    "\n",
    "# TODO 构造 100 个线性函数上的点，加上适当的高斯噪音\n",
    "import random\n",
    " \n",
    "#TODO 对这100个点进行线性回归，将线性回归得到的函数和原线性函数比较\n",
    "points = []\n",
    "for i in range(100):\n",
    "    a = random.random()\n",
    "    b = 5 * a + 10\n",
    "    b += random.random()\n",
    "    child = (a,b)\n",
    "    points.append(child)\n",
    "\n",
    "#TODO 对这100个点进行线性回归，将线性回归得到的函数和原线性函数比较\n",
    "result = linearRegression(points)\n",
    "print \"斜率比较：\"\n",
    "print \"原有斜率：5\"\n",
    "print \"线性回归的斜率：\" + str(result[0])\n",
    "print \"-----------\"\n",
    "print \"截距比较：\"\n",
    "print \"原有截距：10\"\n",
    "print \"线性回归的截距：\" + str(result[1])"
   ]
  }
 ],
 "metadata": {
  "anaconda-cloud": {},
  "celltoolbar": "Raw Cell Format",
  "kernelspec": {
   "display_name": "Python 2",
   "language": "python",
   "name": "python2"
  },
  "language_info": {
   "codemirror_mode": {
    "name": "ipython",
    "version": 2
   },
   "file_extension": ".py",
   "mimetype": "text/x-python",
   "name": "python",
   "nbconvert_exporter": "python",
   "pygments_lexer": "ipython2",
   "version": "2.7.13"
  }
 },
 "nbformat": 4,
 "nbformat_minor": 2
}
